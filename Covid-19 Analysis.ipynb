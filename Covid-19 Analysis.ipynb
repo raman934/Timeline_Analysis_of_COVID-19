{
 "cells": [
  {
   "cell_type": "markdown",
   "metadata": {},
   "source": [
    "## Covid 19 Analysis"
   ]
  },
  {
   "cell_type": "markdown",
   "metadata": {},
   "source": [
    "### A storyboard showing spread of Covid-19 cases in your country. Identify interesting patterns and possible reasons helping Covid-19 spread with basic as well as advanced charts. Use animation, timeline and annotations to create attractive and interactive dashboards and story."
   ]
  },
  {
   "cell_type": "code",
   "execution_count": null,
   "metadata": {},
   "outputs": [],
   "source": [
    "!pip install pycountry_convert\n",
    "!pip install folium\n",
    "!pip install tensorflow\n"
   ]
  },
  {
   "cell_type": "code",
   "execution_count": null,
   "metadata": {},
   "outputs": [],
   "source": [
    "import pycountry_convert"
   ]
  },
  {
   "cell_type": "code",
   "execution_count": null,
   "metadata": {},
   "outputs": [],
   "source": [
    "import folium"
   ]
  },
  {
   "cell_type": "code",
   "execution_count": null,
   "metadata": {},
   "outputs": [],
   "source": [
    "import tensorflow as tf"
   ]
  },
  {
   "cell_type": "code",
   "execution_count": null,
   "metadata": {},
   "outputs": [],
   "source": [
    "import pandas as pd"
   ]
  },
  {
   "cell_type": "code",
   "execution_count": null,
   "metadata": {},
   "outputs": [],
   "source": [
    "import numpy as np"
   ]
  },
  {
   "cell_type": "code",
   "execution_count": null,
   "metadata": {},
   "outputs": [],
   "source": [
    "import matplotlib.pyplot as plt"
   ]
  },
  {
   "cell_type": "code",
   "execution_count": null,
   "metadata": {},
   "outputs": [],
   "source": [
    "from matplotlib import ticker"
   ]
  },
  {
   "cell_type": "code",
   "execution_count": null,
   "metadata": {},
   "outputs": [],
   "source": [
    "import pycountry_convert as pc\n",
    "import folium"
   ]
  },
  {
   "cell_type": "code",
   "execution_count": null,
   "metadata": {},
   "outputs": [],
   "source": [
    "import branca"
   ]
  },
  {
   "cell_type": "code",
   "execution_count": null,
   "metadata": {},
   "outputs": [],
   "source": [
    "from datetime import datetime, timedelta,date"
   ]
  },
  {
   "cell_type": "code",
   "execution_count": null,
   "metadata": {},
   "outputs": [],
   "source": [
    "from scipy.interpolate import make_interp_spline, BSpline"
   ]
  },
  {
   "cell_type": "code",
   "execution_count": null,
   "metadata": {},
   "outputs": [],
   "source": [
    "import pycountry_convert\n"
   ]
  },
  {
   "cell_type": "code",
   "execution_count": null,
   "metadata": {},
   "outputs": [],
   "source": [
    "import folium"
   ]
  },
  {
   "cell_type": "code",
   "execution_count": null,
   "metadata": {},
   "outputs": [],
   "source": [
    "import tensorflow as tf"
   ]
  },
  {
   "cell_type": "code",
   "execution_count": null,
   "metadata": {},
   "outputs": [],
   "source": [
    "import pandas as pd"
   ]
  },
  {
   "cell_type": "code",
   "execution_count": null,
   "metadata": {},
   "outputs": [],
   "source": [
    "import numpy as np"
   ]
  },
  {
   "cell_type": "code",
   "execution_count": null,
   "metadata": {},
   "outputs": [],
   "source": [
    "import matplotlib.pyplot as plt"
   ]
  },
  {
   "cell_type": "code",
   "execution_count": null,
   "metadata": {},
   "outputs": [],
   "source": [
    "import json, requests\n",
    "%matplotlib inline"
   ]
  },
  {
   "cell_type": "markdown",
   "metadata": {},
   "source": [
    "### Data Collection"
   ]
  },
  {
   "cell_type": "code",
   "execution_count": null,
   "metadata": {},
   "outputs": [],
   "source": [
    "# countrywise cases\n",
    "df_covid19= pd.read_csv(\"https://raw.githubusercontent.com/CSSEGISandData/COVID-19/web-data/data/cases_country.csv\")\n",
    "df_covid19.head()"
   ]
  },
  {
   "cell_type": "code",
   "execution_count": null,
   "metadata": {},
   "outputs": [],
   "source": [
    "#confirmed cases\n",
    "df_confirmed = pd.read_csv('https://raw.githubusercontent.com/CSSEGISandData/COVID-19/master/csse_covid_19_data/csse_covid_19_time_series/time_series_covid19_confirmed_global.csv')\n",
    "df_confirmed.head()"
   ]
  },
  {
   "cell_type": "code",
   "execution_count": null,
   "metadata": {},
   "outputs": [],
   "source": [
    "#death cases\n",
    "df_deaths= pd.read_csv('https://raw.githubusercontent.com/CSSEGISandData/COVID-19/master/csse_covid_19_data/csse_covid_19_time_series/time_series_covid19_deaths_global.csv')\n",
    "df_deaths.head()"
   ]
  },
  {
   "cell_type": "code",
   "execution_count": null,
   "metadata": {},
   "outputs": [],
   "source": [
    "#recovered cases\n",
    "df_recovered = pd.read_csv(\"https://raw.githubusercontent.com/CSSEGISandData/COVID-19/master/csse_covid_19_data/csse_covid_19_time_series/time_series_covid19_recovered_global.csv\")\n",
    "df_recovered.head()"
   ]
  },
  {
   "cell_type": "code",
   "execution_count": null,
   "metadata": {},
   "outputs": [],
   "source": [
    "#timeseries data\n",
    "df_table=pd.read_csv(\"https://raw.githubusercontent.com/CSSEGISandData/COVID-19/web-data/data/cases_time.csv\")\n",
    "df_table.head()"
   ]
  },
  {
   "cell_type": "code",
   "execution_count": null,
   "metadata": {},
   "outputs": [],
   "source": [
    "df_covid19.info()"
   ]
  },
  {
   "cell_type": "markdown",
   "metadata": {},
   "source": [
    "### Data Preprocessing/ Cleaning"
   ]
  },
  {
   "cell_type": "code",
   "execution_count": null,
   "metadata": {},
   "outputs": [],
   "source": [
    "df_confirmed = df_confirmed.rename(columns={\"Province/State\":\"state\",\"Country/Region\": \"country\"})\n",
    "\n",
    "df_deaths = df_deaths.rename(columns={\"Province/State\":\"state\",\"Country/Region\": \"country\"})\n",
    "\n",
    "df_covid19 = df_covid19.rename(columns={\"Country_Region\": \"country\"})\n",
    "\n",
    "df_recovered = df_recovered.rename(columns={\"Province/State\":\"state\",\"Country/Region\":\n",
    "\"country\"})"
   ]
  },
  {
   "cell_type": "code",
   "execution_count": null,
   "metadata": {},
   "outputs": [],
   "source": [
    "#adding active cases column to covid data\n",
    "df_covid19[\"Active\"] = df_covid19[\"Confirmed\"]-df_covid19[\"Recovered\"]-df_covid19[\"Deaths\"]"
   ]
  },
  {
   "cell_type": "code",
   "execution_count": null,
   "metadata": {},
   "outputs": [],
   "source": [
    "df_covid19.head()"
   ]
  },
  {
   "cell_type": "code",
   "execution_count": null,
   "metadata": {},
   "outputs": [],
   "source": [
    "df_covid19.country.value_counts()"
   ]
  },
  {
   "cell_type": "code",
   "execution_count": null,
   "metadata": {},
   "outputs": [],
   "source": [
    "#Changing the conuntry names as required by pycountry_convert Lib\n",
    "\n",
    "df_confirmed.loc[df_confirmed['country'] == \"US\", \"country\"] = \"USA\"\n",
    "df_deaths.loc[df_deaths['country'] == \"US\", \"country\"] = \"USA\"\n",
    "df_covid19.loc[df_covid19['country'] == \"US\", \"country\"] = \"USA\"\n",
    "df_table.loc[df_table['Country_Region'] == \"US\", \"Country_Region\"] = \"USA\"\n",
    "\n",
    "df_confirmed.loc[df_confirmed['country'] == 'Korea, South', \"country\"] = 'South Korea'\n",
    "df_deaths.loc[df_deaths['country'] == 'Korea, South', \"country\"] = 'South Korea'\n",
    "df_covid19.loc[df_covid19['country'] == \"Korea, South\", \"country\"] = \"South Korea\"\n",
    "df_table.loc[df_table['Country_Region'] == \"Korea, South\", \"Country_Region\"] = \"South Korea\"\n",
    "\n",
    "df_confirmed.loc[df_confirmed['country'] == 'Taiwan*', \"country\"] = 'Taiwan'\n",
    "df_deaths.loc[df_deaths['country'] == 'Taiwan*', \"country\"] = 'Taiwan'\n",
    "df_covid19.loc[df_covid19['country'] == \"Taiwan*\", \"country\"] = \"Taiwan\"\n",
    "df_table.loc[df_table['Country_Region'] == \"Taiwan*\", \"Country_Region\"] = \"Taiwan\"\n",
    "\n",
    "df_confirmed.loc[df_confirmed['country'] == 'Congo (Kinshasa)', \"country\"] = 'Democratic Republic of the Congo'\n",
    "\n",
    "df_deaths.loc[df_deaths['country'] == 'Congo (Kinshasa)', \"country\"] = 'Democratic Republic of the Congo'\n",
    "df_covid19.loc[df_covid19['country'] == \"Congo (Kinshasa)\", \"country\"] = \"Democratic Republic of the Congo\"\n",
    "df_table.loc[df_table['Country_Region'] == \"Congo (Kinshasa)\", \"Country_Region\"] = \"Democratic Republic of the Congo\"\n",
    "\n",
    "df_confirmed.loc[df_confirmed['country'] == \"Cote d'Ivoire\", \"country\"] = \"Côte d'Ivoire\"\n",
    "df_deaths.loc[df_deaths['country'] == \"Cote d'Ivoire\", \"country\"] = \"Côte d'Ivoire\"\n",
    "df_covid19.loc[df_covid19['country'] == \"Cote d'Ivoire\", \"country\"] = \"Côte d'Ivoire\"\n",
    "df_table.loc[df_table['Country_Region'] == \"Cote d'Ivoire\", \"Country_Region\"] = \"Côte d'Ivoire\"\n",
    "\n",
    "df_confirmed.loc[df_confirmed['country'] == \"Reunion\", \"country\"] = \"Réunion\"\n",
    "df_deaths.loc[df_deaths['country'] == \"Reunion\", \"country\"] = \"Réunion\"\n",
    "df_covid19.loc[df_covid19['country'] == \"Reunion\", \"country\"] = \"Réunion\"\n",
    "df_table.loc[df_table['Country_Region'] == \"Reunion\", \"Country_Region\"] = \"Réunion\"\n",
    "\n",
    "df_confirmed.loc[df_confirmed['country'] == 'Congo (Brazzaville)', \"country\"] = 'Republic of the Congo'\n",
    "df_deaths.loc[df_deaths['country'] == 'Congo (Brazzaville)', \"country\"] = 'Republic of the Congo'\n",
    "df_covid19.loc[df_covid19['country'] == \"Congo (Brazzaville)\", \"country\"] = \"Republic of the Congo\"\n",
    "df_table.loc[df_table['Country_Region'] == \"Congo (Brazzaville)\", \"Country_Region\"] = \"Republic of the Congo\"\n",
    "df_recovered.loc[df_recovered['country'] == 'Congo (Brazzaville)', \"country\"] = 'Republic of the Congo'\n",
    "df_confirmed.loc[df_confirmed['country'] == 'Bahamas, The', \"country\"] = 'Bahamas'\n",
    "df_deaths.loc[df_deaths['country'] == 'Bahamas, The', \"country\"] = 'Bahamas'\n",
    "df_covid19.loc[df_covid19['country'] == \"Bahamas, The\", \"country\"] = \"Bahamas\"\n",
    "df_table.loc[df_table['Country_Region'] == \"Bahamas, The\", \"Country_Region\"] = \"Bahamas\"\n",
    "\n",
    "df_confirmed.loc[df_confirmed['country'] == 'Gambia, The', \"country\"] = 'Gambia'\n",
    "df_deaths.loc[df_deaths['country'] == 'Gambia, The', \"country\"] = 'Gambia'\n",
    "df_covid19.loc[df_covid19['country'] == \"Gambia, The\", \"country\"] = \"Gambia\"\n",
    "df_table.loc[df_table['Country_Region'] == \"Gambia\", \"Country_Region\"] = \"Gambia\""
   ]
  },
  {
   "cell_type": "code",
   "execution_count": null,
   "metadata": {},
   "outputs": [],
   "source": [
    "#getting all countries\n",
    "\n",
    "countries = np.asarray(df_confirmed[\"country\"])\n",
    "countries1 = np.asarray(df_covid19[\"country\"])\n",
    "\n",
    "continents = {\n",
    "'NA': 'North America',\n",
    "'SA': 'South America',\n",
    "'AS': 'Asia',\n",
    "'OC': 'Australia',\n",
    "'AF': 'Africa',\n",
    "'EU' : 'Europe',\n",
    "'na' : 'Others'\n",
    "}"
   ]
  },
  {
   "cell_type": "code",
   "execution_count": null,
   "metadata": {},
   "outputs": [],
   "source": [
    "#Defininng Function for getting continent code for country.\n",
    "\n",
    "def country_to_continent_code(country):\n",
    "  try:\n",
    "    return pc.country_alpha2_to_continent_code(pc.country_name_to_country_alpha2(country))\n",
    "  except :\n",
    "    return 'na'\n",
    "\"\"\"\n",
    "Collecting Continent Information\n",
    "\"\"\"\n",
    "df_confirmed.insert(2,\"continent\", [continents[country_to_continent_code(country)] for country in countries[:]])\n",
    "df_deaths.insert(2,\"continent\", [continents[country_to_continent_code(country)] for country in countries[:]])\n",
    "df_covid19.insert(1,\"continent\", [continents[country_to_continent_code(country)] for country in countries1[:]])\n",
    "df_table.insert(1,\"continent\", [continents[country_to_continent_code(country)] for country in df_table[\"Country_Region\"].values])"
   ]
  },
  {
   "cell_type": "code",
   "execution_count": null,
   "metadata": {},
   "outputs": [],
   "source": [
    "df_table = df_table[df_table[\"continent\"] != \"Others\"]"
   ]
  },
  {
   "cell_type": "code",
   "execution_count": null,
   "metadata": {},
   "outputs": [],
   "source": [
    "df_deaths[df_deaths[\"continent\" ]== 'Others']"
   ]
  },
  {
   "cell_type": "code",
   "execution_count": null,
   "metadata": {},
   "outputs": [],
   "source": [
    "def plot_params(ax,axis_label= None, plt_title = None,label_size=15, axis_fsize = 15, title_fsize =\n",
    "20, scale = 'linear' ):\n",
    "    ax.xaxis.set_minor_locator(ticker.AutoMinorLocator())\n",
    "    ax.yaxis.set_minor_locator(ticker.AutoMinorLocator())\n",
    "    ax.tick_params(which='both', width=1,labelsize=label_size)\n",
    "    ax.tick_params(which='major', length=6)\n",
    "    ax.tick_params(which='minor', length=3, color='0.8')\n",
    "\n",
    "    plt.grid(lw = 1, ls = '-', c = \"0.7\", which = 'major')\n",
    "    plt.grid(lw = 1, ls = '-', c = \"0.9\", which = 'minor')\n",
    "\n",
    "    plt.title( plt_title,{'fontsize':title_fsize})\n",
    "\n",
    "    plt.yscale(scale)\n",
    "    plt.minorticks_on()\n",
    "\n",
    "    xl = plt.xlabel(axis_label[0],fontsize = axis_fsize)\n",
    "    yl = plt.ylabel(axis_label[1],fontsize = axis_fsize)"
   ]
  },
  {
   "cell_type": "code",
   "execution_count": null,
   "metadata": {},
   "outputs": [],
   "source": [
    "def visualize_covid_cases(confirmed, deaths, continent=None , country = None , state = None, period= None, figure = None, scale = \"linear\"):\n",
    "    x = 0\n",
    "    if figure == None:\n",
    "        f = plt.figure(figsize=(10,10))\n",
    "\n",
    "        ax = f.add_subplot(111)\n",
    "    else :\n",
    "        f = figure[0]\n",
    "\n",
    "        ax = f.add_subplot(figure[1],figure[2],figure[3])\n",
    "    plt.tight_layout(pad=10, w_pad=5, h_pad=5)\n",
    "    stats = [confirmed, deaths]\n",
    "    label = [\"Confirmed\", \"Deaths\"]\n",
    "    if continent != None:\n",
    "        params = [\"continent\",continent]\n",
    "    elif country != None:\n",
    "        params = [\"country\",country]\n",
    "    else:\n",
    "        params = [\"All\", \"All\"]\n",
    "    color = [\"darkcyan\",\"crimson\"]\n",
    "    marker_style = dict(linewidth=3, linestyle='-', marker='o',markersize=4, markerfacecolor='#ffffff')\n",
    "    for i,stat in enumerate(stats):\n",
    "        if params[1] == \"All\" :\n",
    "            cases = np.sum(np.asarray(stat.iloc[:,5:]),axis = 0)[x:]\n",
    "        else :\n",
    "            cases = np.sum(np.asarray(stat[stat[params[0]] == params[1]].iloc[:,5:]),axis = 0)[x:]\n",
    "        date = np.arange(1,cases.shape[0]+1)[x:]\n",
    "        plt.plot(date,cases,label = label[i]+\" (Total : \"+str(cases[-1])+\")\",color=color[i],**marker_style)\n",
    "    if params[1] == \"All\" :\n",
    "        Total_confirmed = np.sum(np.asarray(stats[0].iloc[:,5:]),axis = 0)[x:]\n",
    "        Total_deaths = np.sum(np.asarray(stats[1].iloc[:,5:]),axis = 0)[x:]\n",
    "  \n",
    "    else :\n",
    "        Total_confirmed = np.sum(np.asarray(stats[0][stat[params[0]] == params[1]].iloc[:,5:]),axis = 0)[x:]\n",
    "        Total_deaths = np.sum(np.asarray(stats[1][stat[params[0]] == params[1]].iloc[:,5:]),axis =0)[x:]\n",
    "    text = \"From \"+stats[0].columns[5]+\" to \"+stats[0].columns[-1]+\"\\n\"\n",
    "    text += \"Mortality rate : \"+ str(int(Total_deaths[-1]/(Total_confirmed[-1])*10000)/100)+\"\\n\"\n",
    "    text += \"Last 5 Days:\\n\"\n",
    "    text += \"Confirmed : \" + str(Total_confirmed[-1] - Total_confirmed[-6])+\"\\n\"\n",
    "    text += \"Deaths : \" + str(Total_deaths[-1] - Total_deaths[-6])+\"\\n\"\n",
    "    text += \"Last 24 Hours:\\n\"\n",
    "    text += \"Confirmed : \" + str(Total_confirmed[-1] - Total_confirmed[-2])+\"\\n\"\n",
    "    text += \"Deaths : \" + str(Total_deaths[-1] - Total_deaths[-2])+\"\\n\"\n",
    "    plt.text(0.02, 0.78, text, fontsize=15, horizontalalignment='left', verticalalignment='top', transform=ax.transAxes,bbox=dict(facecolor='white', alpha=0.4))\n",
    "\n",
    "    axis_label = [\"Days (\"+df_confirmed.columns[5]+\" - \"+df_confirmed.columns[-1]+\")\",\"No of Cases\"]\n",
    "\n",
    "    plot_params(ax,axis_label,scale = scale)\n",
    "\n",
    "    if params[1] == \"All\" :\n",
    "        plt.title(\"COVID-19 Cases World\",{'fontsize':25})\n",
    "    else:\n",
    "        plt.title(\"COVID-19 Cases for \"+params[1] ,{'fontsize':25})\n",
    "\n",
    "        l = plt.legend(loc= \"best\",fontsize = 15)\n",
    "    if figure == None:\n",
    "        plt.show()"
   ]
  },
  {
   "cell_type": "code",
   "execution_count": null,
   "metadata": {},
   "outputs": [],
   "source": [
    "def get_total_cases(cases, country = \"All\"):\n",
    "    if(country == \"All\") :\n",
    "        return np.sum(np.asarray(cases.iloc[:,5:]),axis = 0)[-1]\n",
    "    else :\n",
    "        return np.sum(np.asarray(cases[cases[\"country\"] == country].iloc[:,5:]),axis = 0)[-1]"
   ]
  },
  {
   "cell_type": "code",
   "execution_count": null,
   "metadata": {},
   "outputs": [],
   "source": [
    "def get_mortality_rate(confirmed,deaths, continent = None, country = None):\n",
    "    if continent != None:\n",
    "        params = [\"continent\",continent]\n",
    "    elif country != None:\n",
    "        params = [\"country\",country]\n",
    "    else :\n",
    "        params = [\"All\", \"All\"]\n",
    "    if params[1] == \"All\" :\n",
    "        Total_confirmed = np.sum(np.asarray(confirmed.iloc[:,5:]),axis = 0)\n",
    "        Total_deaths = np.sum(np.asarray(deaths.iloc[:,5:]),axis = 0)\n",
    "        mortality_rate = np.round((Total_deaths/Total_confirmed)*100,2)\n",
    "    else :\n",
    "        Total_confirmed = np.sum(np.asarray(confirmed[confirmed[params[0]] == params[1]].iloc[:,5:]),axis = 0)\n",
    "        Total_deaths = np.sum(np.asarray(deaths[deaths[params[0]] == params[1]].iloc[:,5:]),axis =0)\n",
    "        mortality_rate = np.round((Total_deaths/Total_confirmed)*100,2)\n",
    "    return np.nan_to_num(mortality_rate)\n",
    "def dd(date1,date2):\n",
    "    return (datetime.strptime(date1,'%m/%d/%y') - datetime.strptime(date2,'%m/%d/%y')).days\n",
    "out = \"\"+\"output/\""
   ]
  },
  {
   "cell_type": "markdown",
   "metadata": {},
   "source": [
    "### General Analysis of Data \n",
    "#### Getting country wise and continent wise data"
   ]
  },
  {
   "cell_type": "code",
   "execution_count": null,
   "metadata": {},
   "outputs": [],
   "source": [
    "df_countries_cases = df_covid19.copy().drop(['Lat','Long_','continent','Last_Update'],axis =1)\n",
    "df_countries_cases.index = df_countries_cases[\"country\"]\n",
    "df_countries_cases = df_countries_cases.drop(['country'],axis=1)\n",
    "df_continents_cases = df_covid19.copy().drop(['Lat','Long_','country','Last_Update'],axis =1)\n",
    "df_continents_cases = df_continents_cases.groupby([\"continent\"]).sum()"
   ]
  },
  {
   "cell_type": "markdown",
   "metadata": {},
   "source": [
    "#### Global Reported Cases till Date\n",
    "#### Total number of confirmed cases, deaths reported, revoveries and active cases all across the world"
   ]
  },
  {
   "cell_type": "code",
   "execution_count": null,
   "metadata": {},
   "outputs": [],
   "source": [
    "\n",
    "pd.DataFrame(df_countries_cases.sum()).transpose().style.background_gradient(cmap='Wistia',axis=1)\n"
   ]
  },
  {
   "cell_type": "markdown",
   "metadata": {},
   "source": [
    "#### Country Wise Reported Cases.\n",
    "#### Country Wise reported confirmed cases, recovered cases, deaths, active cases"
   ]
  },
  {
   "cell_type": "code",
   "execution_count": null,
   "metadata": {},
   "outputs": [],
   "source": [
    "df_continents_cases.style.background_gradient(cmap='Wistia')"
   ]
  },
  {
   "cell_type": "markdown",
   "metadata": {},
   "source": [
    "#### Coninent Wise Reported Cases\n",
    "#### Total number of confirmed cases, deaths reported, revoveries and active cases all across the world"
   ]
  },
  {
   "cell_type": "code",
   "execution_count": null,
   "metadata": {},
   "outputs": [],
   "source": [
    "df_countries_cases.sort_values('Confirmed', ascending= False).style.background_gradient(cmap='Wistia')"
   ]
  },
  {
   "cell_type": "markdown",
   "metadata": {},
   "source": [
    "### Top 10 countries (Confirmed Cases and Deaths) "
   ]
  },
  {
   "cell_type": "code",
   "execution_count": null,
   "metadata": {},
   "outputs": [],
   "source": [
    "f = plt.figure(figsize=(10,5))\n",
    "f.add_subplot(111)\n",
    "plt.axes(axisbelow=True)\n",
    "plt.barh(df_countries_cases.sort_values('Confirmed')[\"Confirmed\"].index[-10:],df_countries_cases.sort_values('Confirmed')[\"Confirmed\"].values[-10:],color=\"darkcyan\")\n",
    "plt.tick_params(size=5,labelsize = 13)\n",
    "plt.xlabel(\"Confirmed Cases\",fontsize=18)\n",
    "plt.title(\"Top 10 Countries (Confirmed Cases)\",fontsize=20)\n",
    "plt.grid(alpha=0.3)"
   ]
  },
  {
   "cell_type": "code",
   "execution_count": null,
   "metadata": {},
   "outputs": [],
   "source": [
    "f = plt.figure(figsize=(10,5))\n",
    "f.add_subplot(111)\n",
    "plt.axes(axisbelow=True)\n",
    "plt.barh(df_countries_cases.sort_values('Deaths')[\"Deaths\"].index[-10:],df_countries_cases.sort_values('Deaths')[\"Deaths\"].values[-10:],color=\"crimson\")\n",
    "plt.tick_params(size=5,labelsize = 13)\n",
    "plt.xlabel(\"Deaths Cases\",fontsize=18)\n",
    "plt.title(\"Top 10 Countries (Deaths Cases)\",fontsize=20)\n",
    "plt.grid(alpha=0.3,which='both')"
   ]
  },
  {
   "cell_type": "code",
   "execution_count": null,
   "metadata": {},
   "outputs": [],
   "source": [
    "f = plt.figure(figsize=(10,5))\n",
    "f.add_subplot(111)\n",
    "plt.axes(axisbelow=True)\n",
    "plt.barh(df_countries_cases.sort_values('Active')[\"Active\"].index[-10:],df_countries_cases.sort_values('Active')[\"Active\"].values[-10:],color=\"darkorange\")\n",
    "plt.tick_params(size=5,labelsize = 13)\n",
    "plt.xlabel(\"Active Cases\",fontsize=18)\n",
    "plt.title(\"Top 10 Countries (Active Cases)\",fontsize=20)\n",
    "plt.grid(alpha=0.3,which='both')"
   ]
  },
  {
   "cell_type": "code",
   "execution_count": null,
   "metadata": {},
   "outputs": [],
   "source": [
    "f = plt.figure(figsize=(10,5))\n",
    "f.add_subplot(111)\n",
    "plt.axes(axisbelow=True)\n",
    "plt.barh(df_countries_cases.sort_values('Recovered')[\"Recovered\"].index[-10:],df_countries_cases.sort_values('Recovered')[\"Recovered\"].values[-10:],color=\"limegreen\")\n",
    "plt.tick_params(size=5,labelsize = 13)\n",
    "plt.xlabel(\"Recovered Cases\",fontsize=18)\n",
    "plt.title(\"Top 10 Countries (Recovered Cases)\",fontsize=20)\n",
    "plt.grid(alpha=0.3,which='both')"
   ]
  },
  {
   "cell_type": "markdown",
   "metadata": {},
   "source": [
    "### Correlation Analysis"
   ]
  },
  {
   "cell_type": "markdown",
   "metadata": {},
   "source": [
    " Plotting Heat map of correlation of confirmed cases, recovered cases, deaths and active cases."
   ]
  },
  {
   "cell_type": "markdown",
   "metadata": {},
   "source": [
    "#### Country wise Correlation"
   ]
  },
  {
   "cell_type": "code",
   "execution_count": null,
   "metadata": {},
   "outputs": [],
   "source": [
    "df_countries_cases.corr().style.background_gradient(cmap='Reds')"
   ]
  },
  {
   "cell_type": "markdown",
   "metadata": {},
   "source": [
    "#### Continent wise correlation"
   ]
  },
  {
   "cell_type": "code",
   "execution_count": null,
   "metadata": {},
   "outputs": [],
   "source": [
    "df_continents_cases.corr().style.background_gradient(cmap='Reds')"
   ]
  },
  {
   "cell_type": "markdown",
   "metadata": {},
   "source": [
    "### Visualization on  Map "
   ]
  },
  {
   "cell_type": "code",
   "execution_count": null,
   "metadata": {},
   "outputs": [],
   "source": [
    "world_map = folium.Map(location=[10,0], tiles=\"cartodbpositron\", zoom_start=2,max_zoom=6,min_zoom=2)\n",
    "for i in range(0,len(df_confirmed)):\n",
    "    folium.Circle(\n",
    "        location=[df_confirmed.iloc[i]['Lat'], df_confirmed.iloc[i]['Long']],\n",
    "        tooltip = \"<h5 style='text-align:center;font-weight: bold'>\"+df_confirmed.iloc[i]['country']+\"</h5>\"+\n",
    "                  \"<div style='text-align:center;'>\"+str(np.nan_to_num(df_confirmed.iloc[i]['state']))+\"</div>\"+\n",
    "                  \"<hr style='margin:10px;'>\"+\n",
    "                  \"<ul style='color: #444;list-style-type:circle;align-item:left;paddingleft:20px;padding-right:20px'>\"+\n",
    "                  \"<li>Confirmed: \"+str(df_confirmed.iloc[i,-1])+\"</li>\"+\n",
    "                  \"<li>Deaths: \"+str(df_deaths.iloc[i,-1])+\"</li>\"+\n",
    "                  \"<li>Mortality Rate: \"+str(np.round(df_deaths.iloc[i,-1]/(df_confirmed.iloc[i,-1]+1.00001)*100,2))+\"</li>\"+\n",
    "                  \"</ul>\",\n",
    "                  radius=(int((np.log(df_confirmed.iloc[i,-1]+1.00001)))+0.2)*50000,\n",
    "                  color='#ff6600',\n",
    "                  fill_color='#ff8533',\n",
    "                  fill=True).add_to(world_map)\n",
    "world_map\n"
   ]
  },
  {
   "cell_type": "markdown",
   "metadata": {},
   "source": [
    "### Covid-19 spread analysis "
   ]
  },
  {
   "cell_type": "markdown",
   "metadata": {},
   "source": [
    "Spread Analysis is in two sections:\n",
    "\n",
    "- Spread Across Globe\n",
    "\n",
    "- Spread Trends in the World, Continents and few most affected Countries"
   ]
  },
  {
   "cell_type": "markdown",
   "metadata": {},
   "source": [
    "#### Spread Across Globe\n"
   ]
  },
  {
   "cell_type": "markdown",
   "metadata": {},
   "source": [
    " Number of countries affected over the time\n",
    " "
   ]
  },
  {
   "cell_type": "code",
   "execution_count": null,
   "metadata": {},
   "outputs": [],
   "source": [
    "case_nums_country = df_confirmed.groupby(\"country\").sum().drop(['Lat','Long'],axis\n",
    "=1).apply(lambda x: x[x > 0].count(), axis =0)\n",
    "d = [datetime.strptime(date,'%m/%d/%y').strftime(\"%d %b\") for date in case_nums_country.index]\n",
    "f = plt.figure(figsize=(15,8))\n",
    "f.add_subplot(111)\n",
    "marker_style = dict(c=\"crimson\",linewidth=6, linestyle='-', marker='o',markersize=8, markerfacecolor='#ffffff')\n",
    "plt.plot(d, case_nums_country,**marker_style)\n",
    "plt.tick_params(labelsize = 14)\n",
    "plt.xticks(list(np.arange(0,len(d),int(len(d)/5))),d[:-1:int(len(d)/5)]+[d[-1]])\n",
    "#labels\n",
    "plt.xlabel(\"Dates\",fontsize=18)\n",
    "plt.ylabel(\"Number of Countries/Regions\",fontsize=1)\n",
    "plt.grid(alpha = 0.3)\n",
    "plt.show()\n",
    "plt.close()"
   ]
  },
  {
   "cell_type": "markdown",
   "metadata": {},
   "source": [
    "### Spread Trends in the World, Continents and few most affected Countries"
   ]
  },
  {
   "cell_type": "markdown",
   "metadata": {},
   "source": [
    "COVID-19 Global Spread Trends\n",
    "\n",
    "COVID-19 Spread Trends in Different Continents\n",
    "\n",
    "COVID-19 Spread Trends in Few Most Affected Countries\n",
    "\n",
    "COVID-19 Spread Comparison of few most affected countries\n",
    "\n",
    "COVID-19 Spread Comparison of in different continents"
   ]
  },
  {
   "cell_type": "markdown",
   "metadata": {},
   "source": [
    "#### COVID-19 Global Spread Trends"
   ]
  },
  {
   "cell_type": "code",
   "execution_count": null,
   "metadata": {},
   "outputs": [],
   "source": [
    "cols = 1\n",
    "rows = 1\n",
    "f = plt.figure(figsize=(10,10*rows))\n",
    "visualize_covid_cases(df_confirmed, df_deaths,continent = \"All\",figure = [f,rows,cols, 1])\n",
    "#plt.savefig"
   ]
  },
  {
   "cell_type": "markdown",
   "metadata": {},
   "source": [
    "#### COVID-19 Spread Trends in Different Continents "
   ]
  },
  {
   "cell_type": "code",
   "execution_count": null,
   "metadata": {},
   "outputs": [],
   "source": [
    "df_continents= df_confirmed.groupby([\"continent\"]).sum()\n",
    "continents = df_continents.sort_values(df_continents.columns[-1],ascending = False).index\n",
    "cols =2\n",
    "rows = int(np.ceil(continents.shape[0]/cols))\n",
    "f = plt.figure(figsize=(20,10*rows))\n",
    "for i,continent in enumerate(continents):\n",
    "    visualize_covid_cases(df_confirmed, df_deaths, continent = continent,figure = [f,rows,cols, i+1])\n",
    "plt.show()"
   ]
  },
  {
   "cell_type": "markdown",
   "metadata": {},
   "source": [
    "#### COVID-19 Spread Comparison of few most affected countries and INDIA "
   ]
  },
  {
   "cell_type": "code",
   "execution_count": null,
   "metadata": {},
   "outputs": [],
   "source": [
    "temp = df_confirmed.groupby('country').sum().drop([\"Lat\",\"Long\"],axis =1).sort_values(df_confirmed\n",
    ".columns[-1], ascending= False)\n",
    "threshold = 50\n",
    "f = plt.figure(figsize=(10,12))\n",
    "ax = f.add_subplot(111)\n",
    "for i,country in enumerate(temp.index):\n",
    "    if i >= 9:\n",
    "        if country != \"India\" and country != \"Japan\" :\n",
    "            continue\n",
    "    x = 30\n",
    "    t = temp.loc[temp.index== country].values[0]\n",
    "    t = t[t>threshold][:x]\n",
    "\n",
    "    date = np.arange(0,len(t[:x]))\n",
    "    xnew = np.linspace(date.min(), date.max(), 30)\n",
    "    spl = make_interp_spline(date, t, k=1) # type: BSpline\n",
    "    power_smooth = spl(xnew)\n",
    "    if country != \"India\":\n",
    "        plt.plot(xnew,power_smooth,'-o',label = country,linewidth =3, markevery=[-1])\n",
    "    else:\n",
    "        marker_style = dict(linewidth=4, linestyle='-', marker='o',markersize=10, markerfacecolor='#ffffff')\n",
    "plt.plot(date,t,\"-.\",label = country,**marker_style)\n",
    "plt.tick_params(labelsize = 14)\n",
    "plt.xticks(np.arange(0,30,7),[ \"Day \"+str(i) for i in range(30)][::7])\n",
    "# Reference lines\n",
    "x = np.arange(0,18)\n",
    "y = 2**(x+np.log2(threshold))\n",
    "plt.plot(x,y,\"--\",linewidth =2,color = \"gray\")\n",
    "plt.annotate(\"No. of cases doubles every day\",(x[-2],y[-1]),xycoords=\"data\",fontsize=14,alpha = 0.5\n",
    ")\n",
    "x = np.arange(0,26)\n",
    "y = 2**(x/2+np.log2(threshold))\n",
    "plt.plot(x,y,\"--\",linewidth =2,color = \"gray\")\n",
    "plt.annotate(\".. every socend day\",(x[-3],y[-1]),xycoords=\"data\",fontsize=14,alpha = 0.5)\n",
    "x = np.arange(0,26)\n",
    "y = 2**(x/7+np.log2(threshold))\n",
    "plt.plot(x,y,\"--\",linewidth =2,color = \"gray\")\n",
    "plt.annotate(\".. every week\",(x[-3],y[-1]),xycoords=\"data\",fontsize=14,alpha = 0.5)\n",
    "x = np.arange(0,26)\n",
    "y = 2**(x/30+np.log2(threshold))\n",
    "plt.plot(x,y,\"--\",linewidth =2,color = \"gray\")\n",
    "plt.annotate(\".. every month\",(x[-3],y[-1]),xycoords=\"data\",fontsize=14,alpha = 0.5)\n",
    "# India is following trend similar to doulbe the cases in 4 days but it may increase the rate\n",
    "x = np.arange(0,26)\n",
    "y = 2**(x/4+np.log2(threshold))\n",
    "plt.plot(x,y,\"--\",linewidth =2,color = \"Red\")\n",
    "plt.annotate(\".. every 4 days\",(x[-3],y[-1]),color=\"Red\",xycoords=\"data\",fontsize=14,alpha = 0.8)\n",
    "# plot Params\n",
    "plt.xlabel(\"Days\",fontsize=17)\n",
    "plt.ylabel(\"Number of Confirmed Cases\",fontsize=17)\n",
    "plt.title(\"Trend Comparison of Different Countries\\n and India (confirmed) \",fontsize=22)\n",
    "plt.legend(loc = \"upper left\")\n",
    "plt.yscale(\"log\")\n",
    "plt.grid(which=\"both\")\n",
    "#plt.savefig(out+'Trend Comparison with India (confirmed).png')\n",
    "plt.show()"
   ]
  },
  {
   "cell_type": "markdown",
   "metadata": {},
   "source": [
    "#### COVID-19 Spread Comparison of in different continents"
   ]
  },
  {
   "cell_type": "code",
   "execution_count": null,
   "metadata": {},
   "outputs": [],
   "source": [
    "temp = df_confirmed.groupby('continent').sum().drop([\"Lat\",\"Long\"],axis =1).sort_values(df_confirmed.columns[-1], ascending= False)\n",
    "threshold = 50\n",
    "f = plt.figure(figsize=(10,12))\n",
    "ax = f.add_subplot(111)\n",
    "for i,country in enumerate(temp.index):\n",
    "    if i > 10:\n",
    "        break\n",
    "    x = 30\n",
    "    t = temp.loc[temp.index== country].values[0]\n",
    "    t = t[t>threshold][:x]\n",
    "    date = np.arange(0,len(t[:x]))\n",
    "    xnew = np.linspace(date.min(), date.max(), 30)\n",
    "    spl = make_interp_spline(date, t, k=1) # type: BSpline\n",
    "    power_smooth = spl(xnew)\n",
    "    plt.plot(xnew,power_smooth,'-o',label = country,linewidth =3, markevery=[-1])\n",
    "plt.tick_params(labelsize = 14)\n",
    "plt.xticks(np.arange(0,30,7),[ \"Day \"+str(i) for i in range(30)][::7])\n",
    "# Reference lines\n",
    "x = np.arange(0,18)\n",
    "y = 2**(x+np.log2(threshold))\n",
    "plt.plot(x,y,\"--\",linewidth =2,color = \"gray\")\n",
    "plt.annotate(\"No. of cases doubles every day\",(x[-2],y[-1]),xycoords=\"data\",fontsize=14,alpha = 0.5\n",
    ")\n",
    "x = np.arange(0,26)\n",
    "y = 2**(x/2+np.log2(threshold))\n",
    "plt.plot(x,y,\"--\",linewidth =2,color = \"gray\")\n",
    "plt.annotate(\".. every socend day\",(x[-3],y[-1]),xycoords=\"data\",fontsize=14,alpha = 0.5)\n",
    "x = np.arange(0,26)\n",
    "y = 2**(x/7+np.log2(threshold))\n",
    "plt.plot(x,y,\"--\",linewidth =2,color = \"gray\")\n",
    "plt.annotate(\".. every week\",(x[-3],y[-1]),xycoords=\"data\",fontsize=14,alpha = 0.5)\n",
    "x = np.arange(0,26)\n",
    "y = 2**(x/30+np.log2(threshold))\n",
    "plt.plot(x,y,\"--\",linewidth =2,color = \"gray\")\n",
    "plt.annotate(\".. every month\",(x[-3],y[-1]),xycoords=\"data\",fontsize=14,alpha = 0.5)\n",
    "# India is following trend similar to doulbe the cases in 4 days but it may increase the rate\n",
    "x = np.arange(0,26)\n",
    "y = 2**(x/4+np.log2(threshold))\n",
    "plt.plot(x,y,\"--\",linewidth =2,color = \"Red\")\n",
    "plt.annotate(\".. every 4 days\",(x[-3],y[-1]),xycoords=\"data\",fontsize=14,alpha = 0.8)\n",
    "# plot Params\n",
    "plt.xlabel(\"Days\",fontsize=17)\n",
    "plt.ylabel(\"Number of Confirmed Cases\",fontsize=17)\n",
    "plt.title(\"Trend Comparison of Different Continents \\n(confirmed) \",fontsize=22)\n",
    "plt.legend(loc = \"upper left\")\n",
    "plt.yscale(\"log\")\n",
    "plt.grid(which=\"both\")\n",
    "#plt.savefig(out+'Trend Comparison of continents (Confirmed).png')\n",
    "plt.show()"
   ]
  },
  {
   "cell_type": "code",
   "execution_count": null,
   "metadata": {},
   "outputs": [],
   "source": [
    "temp = df_deaths.groupby('continent').sum().drop([\"Lat\",\"Long\"],axis\n",
    "=1).sort_values(df_deaths.columns[-1], ascending= False)\n",
    "threshold = 10\n",
    "f = plt.figure(figsize=(10,12))\n",
    "ax = f.add_subplot(111)\n",
    "for i,country in enumerate(temp.index):\n",
    "    if i > 10:\n",
    "        break\n",
    "    x = 30\n",
    "    t = temp.loc[temp.index== country].values[0]\n",
    "    t = t[t>threshold][:x]\n",
    "    date = np.arange(0,len(t[:x]))\n",
    "    xnew = np.linspace(date.min(), date.max(), 10)\n",
    "    spl = make_interp_spline(date, t, k=1) # type: BSpline\n",
    "    power_smooth = spl(xnew)\n",
    "    plt.plot(xnew,power_smooth,'-o',label = country,linewidth =3, markevery=[-1])\n",
    "plt.tick_params(labelsize = 14)\n",
    "plt.xticks(np.arange(0,30,7),[ \"Day \"+str(i) for i in range(30)][::7])\n",
    "# Reference lines\n",
    "x = np.arange(0,18)\n",
    "y = 2**(x+np.log2(threshold))\n",
    "plt.plot(x,y,\"--\",linewidth =2,color = \"gray\")\n",
    "plt.annotate(\"No. of cases doubles every day\",(x[-2],y[-1]),xycoords=\"data\",fontsize=14,alpha = 0.5\n",
    ")\n",
    "x = np.arange(0,26)\n",
    "y = 2**(x/2+np.log2(threshold))\n",
    "plt.plot(x,y,\"--\",linewidth =2,color = \"gray\")\n",
    "plt.annotate(\".. every socend day\",(x[-3],y[-1]),xycoords=\"data\",fontsize=14,alpha = 0.5)\n",
    "x = np.arange(0,26)\n",
    "y = 2**(x/7+np.log2(threshold))\n",
    "plt.plot(x,y,\"--\",linewidth =2,color = \"gray\")\n",
    "plt.annotate(\".. every week\",(x[-3],y[-1]),xycoords=\"data\",fontsize=14,alpha = 0.5)\n",
    "x = np.arange(0,26)\n",
    "y = 2**(x/30+np.log2(threshold))\n",
    "plt.plot(x,y,\"--\",linewidth =2,color = \"gray\")\n",
    "plt.annotate(\".. every month\",(x[-3],y[-1]),xycoords=\"data\",fontsize=14,alpha = 0.5)\n",
    "# plot Params\n",
    "plt.xlabel(\"Days\",fontsize=17)\n",
    "plt.ylabel(\"Number of Deaths\",fontsize=17)\n",
    "plt.title(\"Trend Comparison of Different Continents \\n(Deaths)\",fontsize=22)\n",
    "plt.legend(loc = \"upper left\")\n",
    "plt.yscale(\"log\")\n",
    "plt.grid(which=\"both\")\n",
    "#plt.savefig(out+'Trend Comparison continents (deaths).png')\n",
    "plt.show()\n"
   ]
  },
  {
   "cell_type": "markdown",
   "metadata": {},
   "source": [
    "### Global Prediction\n",
    "Global Trend:\n",
    "\n",
    "It is useful to understand the global trend of an increase in the number of cases over time. There is always a pattern in any data, but the concern is how strongly data follows a pattern. COVID-19 spreads exponentially, positive cases of COVID-19 takes 67 days to reach 1 Lakhs while it takes only 11 days to reach 2 Lakhs, 4 days to reach 3 Lakhs, and just 2 days to reach 5 Lakhs. This trend shows how fast it spreads."
   ]
  },
  {
   "cell_type": "code",
   "execution_count": null,
   "metadata": {},
   "outputs": [],
   "source": [
    "temp_data = df_confirmed.iloc[:,5:].sum(axis =0)\n",
    "f = plt.figure(figsize=(20,12))\n",
    "f.add_subplot(111)\n",
    "threshold = 100000\n",
    "t = temp_data.values\n",
    "t = t[t >threshold]\n",
    "date = np.arange(0,len(t[:]))\n",
    "xnew = np.linspace(date.min(), date.max(), 10)\n",
    "spl = make_interp_spline(date, t, k=1) # type: BSpline\n",
    "power_smooth = spl(xnew)\n",
    "marker_style = dict(linewidth=4, linestyle='-', marker='o',markersize=10, markerfacecolor='#ffffff')\n",
    "plt.plot(date,t,\"-.\",label=\"Confirmed Cases\",**marker_style)\n",
    "# Reference lines\n",
    "x = np.arange(0,32)\n",
    "y = 2**(x+np.log2(threshold))\n",
    "plt.plot(x,y,\"--\",linewidth =2,color = \"gray\")\n",
    "plt.annotate(\"No. of Cases Doubles Every Day\",\n",
    "(np.log2((t.max()-threshold)/threshold),t.max()-threshold/2),xycoords=\"data\",fontsize=14,alpha = 0.5)\n",
    "x = np.arange(0,32)\n",
    "y = 2**(x/3+np.log2(threshold))\n",
    "plt.plot(x,y,\"--\",linewidth =2,color = \"gray\")\n",
    "plt.annotate(\"...Every Third Day\",\n",
    "(np.log2((t.max()-threshold)/threshold)*3,t.max()-threshold),xycoords=\"data\",fontsize=14,alpha = 0.5)\n",
    "x = np.arange(0,32)\n",
    "y = 2**(x/7+np.log2(threshold))\n",
    "plt.plot(x,y,\"--\",linewidth =2,color = \"gray\")\n",
    "plt.annotate(\"... Every Week\",(np.log2((t.max()-threshold)/threshold)*7,t.max()-threshold),xycoords=\"data\",fontsize=14,alpha = 0.5)\n",
    "x = np.arange(0,32)\n",
    "y = 2**(x/30+np.log2(threshold))\n",
    "plt.plot(x,y,\"--\",linewidth =2,color = \"gray\")\n",
    "plt.annotate(\".. Every Month\",(18,2**(17/30+np.log2(threshold))),xycoords=\"data\",fontsize=14,alpha= 0.5)\n",
    "x = np.arange(0,32)\n",
    "y = 2**(x/9+np.log2(threshold))\n",
    "plt.plot(x,y,\"--\",linewidth =2,color = \"Red\")\n",
    "plt.annotate(\".. Every 9 Days\",(np.log2((t.max()-threshold)/threshold)*9,t.max()-threshold),color=\"Red\",xycoords=\"data\",fontsize=14,alpha = 0.8)\n",
    "plt.xlim(date[0],date[-1])\n",
    "plt.ylim(threshold - threshold/10,t.max()+threshold)\n",
    "# plot Params\n",
    "# plt.tight_layout()\n",
    "plt.tick_params(labelsize = 16)\n",
    "plt.xticks(np.arange(0,len(t[:])+7,7),[ \"Day \"+str(i) for i in range(len(t[:])+7)][::7])\n",
    "plt.xlabel(\"Days\",fontsize=10)\n",
    "plt.ylabel(\"Number of Confirmed Cases\",fontsize=19)\n",
    "plt.title(\"World Trend\",fontsize=24)\n",
    "plt.legend(loc = \"upper left\")\n",
    "plt.yscale(\"log\")\n",
    "plt.grid(which=\"both\")\n",
    "#plt.savefig(out+\"World Trend Confirmed cases.png\")\n",
    "plt.show()"
   ]
  },
  {
   "cell_type": "markdown",
   "metadata": {},
   "source": [
    "### COVID-19 Mortality Rate Variation Over Period of Time"
   ]
  },
  {
   "cell_type": "markdown",
   "metadata": {},
   "source": [
    "For any epidemic the one of the most important evaluation is Mortality Rate. It is the measure of number of deaths in a particular population during a specific interval.\n",
    "\n",
    "1st curve shows how the mortality rate varies from 22 JAN 2020 to till date all over the world.\n",
    "\n",
    "2nd Curve shows the variation of mortality rate in different continents over time."
   ]
  },
  {
   "cell_type": "code",
   "execution_count": null,
   "metadata": {},
   "outputs": [],
   "source": [
    "df_continents= df_confirmed.groupby([\"continent\"]).sum()\n",
    "continents = df_continents.sort_values(df_continents.columns[-1],ascending = False).index\n",
    "continents = [\"All\"]+list(continents)\n",
    "cols =1\n",
    "rows = 2\n",
    "axis_label = [\"Days (\"+df_confirmed.columns[5]+\" - \"+df_confirmed.columns[-1]+\")\",\"Mortality Rate (of 100)\"]\n",
    "f = plt.figure(figsize=(15,10*rows))\n",
    "#SubPlot 1\n",
    "ax = f.add_subplot(211)\n",
    "mortality_rate = get_mortality_rate(df_confirmed,df_deaths,continent=continents[0])\n",
    "plt.plot(np.arange(1,mortality_rate.shape[0]+1),mortality_rate,label = \"World : Current Mortality Rate \"+str(mortality_rate[-1]))\n",
    "plt_title = \"COVID-19: World Mortality Rate Curve\"\n",
    "plot_params(ax,axis_label,plt_title)\n",
    "# Legend Location\n",
    "l = plt.legend(loc= \"best\")\n",
    "#SubPlot 2\n",
    "ax = f.add_subplot(212)\n",
    "for i, continent in enumerate(continents[1:]):\n",
    "    mortality_rate = get_mortality_rate(df_confirmed,df_deaths,continent=continent)\n",
    "    plt.plot(np.arange(1+mortality_rate[mortality_rate == 0].shape[0],mortality_rate[mortality_rate== 0].shape[0]+mortality_rate[mortality_rate > 0].shape[0]+1),mortality_rate[mortality_rate > 0],label = continents[i+1]+\" \"+str(mortality_rate[-1]))\n",
    "plt_title = \"COVID-19: Mortality Rate Curve for all Continents\"\n",
    "plot_params(ax,axis_label,plt_title)\n",
    "# Legend Location\n",
    "l = plt.legend(loc= \"best\")\n",
    "plt.minorticks_on()\n",
    "#plt.savefig(out+'Mortality rate.png')\n",
    "plt.show()"
   ]
  },
  {
   "cell_type": "markdown",
   "metadata": {},
   "source": [
    "### COVID-19: Change in Mortality Rate of Each Countries Over Time"
   ]
  },
  {
   "cell_type": "code",
   "execution_count": null,
   "metadata": {},
   "outputs": [],
   "source": [
    "\n",
    "df_data = df_table.groupby(['Last_Update', 'Country_Region'])['Confirmed', 'Deaths','continent'].max().reset_index()\n",
    "df_data[\"Last_Update\"] = pd.to_datetime( df_data[\"Last_Update\"]).dt.strftime('%m/%d/%Y')\n",
    "fig = px.scatter(df_data, y=100*df_data[\"Deaths\"]/(df_data[\"Confirmed\"]+1),\n",
    "x= df_data[\"Confirmed\"]+1,\n",
    "range_y = [-1,18],\n",
    "range_x = [1,df_data[\"Confirmed\"].max()+10000],\n",
    "color= \"continent\", hover_name=\"Country_Region\",\n",
    "hover_data=[\"Confirmed\",\"Deaths\"],\n",
    "range_color= [0, max(np.power(df_data[\"Confirmed\"],0.3))],\n",
    "animation_frame=\"Last_Update\",\n",
    "animation_group=\"Country_Region\",\n",
    "color_continuous_scale=px.colors.sequential.Plasma,\n",
    "title='COVID-19: Change in Mortality Rate of Each Countries Over Time',\n",
    "size = np.power(df_data[\"Confirmed\"]+1,0.3)-0.5,\n",
    "size_max = 30,\n",
    "log_x=True,\n",
    "height =700,\n",
    ")\n",
    "fig.update_coloraxes(colorscale=\"hot\")\n",
    "fig.update(layout_coloraxis_showscale=False)\n",
    "fig.update_xaxes(title_text=\"Confirmed Cases (Log Scale)\")\n",
    "fig.update_yaxes(title_text=\"Mortality Rate (%)\")\n",
    "fig.show()"
   ]
  },
  {
   "cell_type": "markdown",
   "metadata": {},
   "source": [
    "### Cumulative Confirmed Cases and Cumulative Recovery Vs Cumulative Deaths Analysis."
   ]
  },
  {
   "cell_type": "markdown",
   "metadata": {},
   "source": [
    "The variation of Cumulative Confirmed Cases and Cumulative Recovery with Cumulative Deaths can show a trend. These 2 curves depict the same. Also, these curves should be a straight line as shown in the 1st curve, but the 2nd curve is not showing that trend, and as the number of recovered cases is increasing, death is increasing at a faster rate.\n",
    "\n",
    "1st curve: Cumulative Confirmed Cases VS Cumulative Deaths\n",
    "\n",
    "2nd curve: Cululative Recovery VS Cumulative Deaths"
   ]
  },
  {
   "cell_type": "code",
   "execution_count": null,
   "metadata": {},
   "outputs": [],
   "source": [
    "cols =1\n",
    "rows = 2\n",
    "f = plt.figure(figsize=(15,10*rows))\n",
    "ax = f.add_subplot(211)\n",
    "plt.plot(np.sum(np.asarray(df_confirmed.iloc[:,5:]),axis = 0),np.sum(np.asarray(df_deaths.iloc[:,5\n",
    ":]),axis = 0))\n",
    "axis_label = [\"Cumulative Confirmed Cases\",\"Cumulative Deaths\"]\n",
    "plt_title = \"COVID-19: World - \\nCumulative Confirmed Cases Vs Cumulative Deaths Curve\"\n",
    "plot_params(ax,axis_label,plt_title)\n",
    "\n",
    "\n",
    "plt.minorticks_on()\n",
    "\n",
    "plt.show()"
   ]
  },
  {
   "cell_type": "markdown",
   "metadata": {},
   "source": [
    "### Variation of Deaths vs Confirmed cases of different cuntries over time "
   ]
  },
  {
   "cell_type": "code",
   "execution_count": null,
   "metadata": {},
   "outputs": [],
   "source": [
    "df_data = df_table.groupby(['Last_Update', 'Country_Region'])['Confirmed', 'Deaths','continent'].max().reset_index()\n",
    "df_data[\"Last_Update\"] = pd.to_datetime( df_data[\"Last_Update\"]).dt.strftime('%m/%d/%Y')\n",
    "fig = px.scatter(df_data, y=df_data[\"Deaths\"],\n",
    "x= df_data[\"Confirmed\"]+1,\n",
    "range_y = [1,df_data[\"Deaths\"].max()+1000],\n",
    "range_x = [1,df_data[\"Confirmed\"].max()+10000],\n",
    "color= \"continent\", hover_name=\"Country_Region\",\n",
    "hover_data=[\"Confirmed\",\"Deaths\"],\n",
    "range_color= [0, max(np.power(df_data[\"Confirmed\"],0.3))],\n",
    "animation_frame=\"Last_Update\",\n",
    "animation_group=\"Country_Region\",\n",
    "color_continuous_scale=px.colors.sequential.Plasma,\n",
    "title='COVID-19: Change Deaths vs Cofirmed of Each Countries Over Time',\n",
    "size = np.power(df_data[\"Confirmed\"]+1,0.3)-0.5,\n",
    "size_max = 30,\n",
    "log_x=True,\n",
    "log_y=True,\n",
    "height =700,\n",
    ")\n",
    "fig.update_coloraxes(colorscale=\"hot\")\n",
    "fig.update(layout_coloraxis_showscale=False)\n",
    "fig.update_xaxes(title_text=\"Confirmed Cases (Log Scale)\")\n",
    "fig.update_yaxes(title_text=\"Deaths Rate (Log Scale)\")\n",
    "fig.show()"
   ]
  },
  {
   "cell_type": "markdown",
   "metadata": {},
   "source": [
    "### COVID-19 : INDIA\n",
    "#### Analysis of Tests done in India"
   ]
  },
  {
   "cell_type": "code",
   "execution_count": null,
   "metadata": {},
   "outputs": [],
   "source": [
    "df_india_test = pd.io.json.json_normalize(requests.get('https://api.rootnet.in/covid19-in/stats/testing/history').json()['data']).rename(columns =\n",
    "{\"totalIndividualsTested\":\"c_individualtest\",\"totalPositiveCases\":\"c_positive\",\"totalSamplesTested\":\"c_tests\"})"
   ]
  },
  {
   "cell_type": "code",
   "execution_count": null,
   "metadata": {},
   "outputs": [],
   "source": [
    "df_india_test[\"p2t_ratio\"]= np.round(100*df_india_test[\"c_positive\"]/df_india_test[\"c_tests\"],2)\n",
    "df_india_test[\"positive\"] = df_india_test[\"c_positive\"].diff()\n",
    "df_india_test[\"tests\"] = df_india_test[\"c_tests\"].diff()\n",
    "df_india_test[\"p2t_ratio\"]= np.round(100*df_india_test[\"positive\"]/df_india_test[\"tests\"],2)"
   ]
  },
  {
   "cell_type": "markdown",
   "metadata": {},
   "source": [
    "#### Total tests done till date (30 March 2020) in India"
   ]
  },
  {
   "cell_type": "code",
   "execution_count": null,
   "metadata": {},
   "outputs": [],
   "source": [
    "df_india_test[\"c_tests\"][-1:].values[0]"
   ]
  },
  {
   "cell_type": "markdown",
   "metadata": {},
   "source": [
    "#### Test Conducted per Million People"
   ]
  },
  {
   "cell_type": "code",
   "execution_count": null,
   "metadata": {},
   "outputs": [],
   "source": [
    "np.round(1000000*df_india_test[\"c_tests\"][-1:].values[0]/1300000000,2)"
   ]
  },
  {
   "cell_type": "markdown",
   "metadata": {},
   "source": [
    "### Cases in India"
   ]
  },
  {
   "cell_type": "code",
   "execution_count": null,
   "metadata": {},
   "outputs": [],
   "source": [
    "india_data_json = requests.get('https://api.rootnet.in/covid19-in/unofficial/covid19india.org/statewise').json()\n",
    "df_india = pd.io.json.json_normalize(india_data_json['data']['statewise'])\n",
    "df_india = df_india.set_index(\"state\")\n"
   ]
  },
  {
   "cell_type": "code",
   "execution_count": null,
   "metadata": {},
   "outputs": [],
   "source": [
    "total = df_india.sum()\n",
    "total.name = \"Total\"\n",
    "pd.DataFrame(total).transpose().style.background_gradient(cmap='Wistia',axis=1)"
   ]
  },
  {
   "cell_type": "code",
   "execution_count": null,
   "metadata": {},
   "outputs": [],
   "source": [
    "df_india.style.background_gradient(cmap='Wistia')"
   ]
  },
  {
   "cell_type": "markdown",
   "metadata": {},
   "source": [
    "#### States with Reported Deaths"
   ]
  },
  {
   "cell_type": "code",
   "execution_count": null,
   "metadata": {},
   "outputs": [],
   "source": [
    "df_india[df_india['deaths'] > 0].style.background_gradient(cmap='Wistia')"
   ]
  },
  {
   "cell_type": "code",
   "execution_count": null,
   "metadata": {},
   "outputs": [],
   "source": [
    "f = plt.figure(figsize=(10,5))\n",
    "f.add_subplot(111)\n",
    "plt.axes(axisbelow=True)\n",
    "plt.barh(df_india.sort_values('confirmed')[\"confirmed\"].index[-10:],df_india.sort_values('confirmed')[\"confirmed\"].values[-10:],color=\"darkcyan\")\n",
    "plt.tick_params(size=5,labelsize = 13)\n",
    "plt.xlabel(\"Confirmed Cases\",fontsize=18)\n",
    "plt.title(\"Top 10 States: India (Confirmed Cases)\",fontsize=20)\n",
    "plt.grid(alpha=0.3)"
   ]
  },
  {
   "cell_type": "code",
   "execution_count": null,
   "metadata": {},
   "outputs": [],
   "source": [
    "f = plt.figure(figsize=(10,5))\n",
    "f.add_subplot(111)\n",
    "plt.axes(axisbelow=True)\n",
    "plt.barh(df_india.sort_values('deaths')[\"deaths\"].index[-10:],df_india.sort_values('deaths')[\"deaths\"].values[-10:],color=\"crimson\")\n",
    "plt.tick_params(size=5,labelsize = 13)\n",
    "plt.xlabel(\"Deaths\",fontsize=18)\n",
    "plt.title(\"Top 10 States: India (Deaths Cases)\",fontsize=20)\n",
    "plt.grid(alpha=0.3)\n"
   ]
  },
  {
   "cell_type": "markdown",
   "metadata": {},
   "source": [
    "### Correlation"
   ]
  },
  {
   "cell_type": "code",
   "execution_count": null,
   "metadata": {},
   "outputs": [],
   "source": [
    "df_india.corr().style.background_gradient(cmap='Blues')"
   ]
  },
  {
   "cell_type": "markdown",
   "metadata": {},
   "source": [
    ""
   ]
  },
  {
   "cell_type": "markdown",
   "metadata": {},
   "source": [
       ]
  }
 ],
 "metadata": {
  "kernelspec": {
   "display_name": "Python 3",
   "language": "python",
   "name": "python3"
  },
  "language_info": {
   "codemirror_mode": {
    "name": "ipython",
    "version": 3
   },
   "file_extension": ".py",
   "mimetype": "text/x-python",
   "name": "python",
   "nbconvert_exporter": "python",
   "pygments_lexer": "ipython3",
   "version": "3.8.3"
  }
 },
 "nbformat": 4,
 "nbformat_minor": 4
}
